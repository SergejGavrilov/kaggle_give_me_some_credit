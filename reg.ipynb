{
 "cells": [
  {
   "cell_type": "code",
   "execution_count": 18,
   "metadata": {
    "collapsed": true,
    "pycharm": {
     "is_executing": false
    }
   },
   "outputs": [],
   "source": [
    "import numpy as np \n",
    "import pandas as pnd\n",
    "import seaborn as sns\n",
    "import matplotlib.pyplot as plt\n",
    "from sklearn.linear_model import LogisticRegression"
   ]
  },
  {
   "cell_type": "code",
   "execution_count": 15,
   "outputs": [
    {
     "name": "stdout",
     "text": [
      "        Unnamed: 0  SeriousDlqin2yrs  RevolvingUtilizationOfUnsecuredLines  \\\n0                1                 1                              0.766127   \n1                2                 0                              0.957151   \n2                3                 0                              0.658180   \n3                4                 0                              0.233810   \n4                5                 0                              0.907239   \n...            ...               ...                                   ...   \n149995      149996                 0                              0.040674   \n149996      149997                 0                              0.299745   \n149997      149998                 0                              0.246044   \n149998      149999                 0                              0.000000   \n149999      150000                 0                              0.850283   \n\n        age  NumberOfTime30-59DaysPastDueNotWorse    DebtRatio  MonthlyIncome  \\\n0        45                                     2     0.802982         9120.0   \n1        40                                     0     0.121876         2600.0   \n2        38                                     1     0.085113         3042.0   \n3        30                                     0     0.036050         3300.0   \n4        49                                     1     0.024926        63588.0   \n...     ...                                   ...          ...            ...   \n149995   74                                     0     0.225131         2100.0   \n149996   44                                     0     0.716562         5584.0   \n149997   58                                     0  3870.000000            NaN   \n149998   30                                     0     0.000000         5716.0   \n149999   64                                     0     0.249908         8158.0   \n\n        NumberOfOpenCreditLinesAndLoans  NumberOfTimes90DaysLate  \\\n0                                    13                        0   \n1                                     4                        0   \n2                                     2                        1   \n3                                     5                        0   \n4                                     7                        0   \n...                                 ...                      ...   \n149995                                4                        0   \n149996                                4                        0   \n149997                               18                        0   \n149998                                4                        0   \n149999                                8                        0   \n\n        NumberRealEstateLoansOrLines  NumberOfTime60-89DaysPastDueNotWorse  \\\n0                                  6                                     0   \n1                                  0                                     0   \n2                                  0                                     0   \n3                                  0                                     0   \n4                                  1                                     0   \n...                              ...                                   ...   \n149995                             1                                     0   \n149996                             1                                     0   \n149997                             1                                     0   \n149998                             0                                     0   \n149999                             2                                     0   \n\n        NumberOfDependents  \n0                      2.0  \n1                      1.0  \n2                      0.0  \n3                      0.0  \n4                      0.0  \n...                    ...  \n149995                 0.0  \n149996                 2.0  \n149997                 0.0  \n149998                 0.0  \n149999                 0.0  \n\n[150000 rows x 12 columns]\n"
     ],
     "output_type": "stream"
    }
   ],
   "source": [
    "df = pnd.read_csv('cs-training.csv')\n",
    "data_testing = pnd.read_csv('cs-test.csv')\n",
    "print(df)"
   ],
   "metadata": {
    "collapsed": false,
    "pycharm": {
     "name": "#%%\n",
     "is_executing": false
    }
   }
  },
  {
   "cell_type": "code",
   "execution_count": 16,
   "outputs": [
    {
     "name": "stdout",
     "text": [
      "age\n0        1\n21     183\n22     434\n23     641\n24     816\n      ... \n102      3\n103      3\n105      1\n107      1\n109      2\nName: age, Length: 86, dtype: int64\n"
     ],
     "output_type": "stream"
    },
    {
     "data": {
      "text/plain": "<Figure size 432x288 with 1 Axes>",
      "image/png": "[encoded data removed]"
     },
     "metadata": {
      "needs_background": "light"
     },
     "output_type": "display_data"
    }
   ],
   "source": [
    "df['age'].plot.box()\n",
    "print(df.groupby('age').age.count())"
   ],
   "metadata": {
    "collapsed": false,
    "pycharm": {
     "name": "#%%\n",
     "is_executing": false
    }
   }
  },
  {
   "cell_type": "code",
   "execution_count": 23,
   "outputs": [
    {
     "data": {
      "text/plain": "<seaborn.axisgrid.FacetGrid at 0xd1ee90>"
     },
     "metadata": {},
     "output_type": "execute_result",
     "execution_count": 23
    },
    {
     "data": {
      "text/plain": "<Figure size 360x360 with 1 Axes>",
      "image/png": "[encoded data removed]"
     },
     "metadata": {
      "needs_background": "light"
     },
     "output_type": "display_data"
    }
   ],
   "source": [
    "sns.relplot(x='SeriousDlqin2yrs', \n",
    "            y = 'DebtRatio',\n",
    "            data=df)"
   ],
   "metadata": {
    "collapsed": false,
    "pycharm": {
     "name": "#%%\n",
     "is_executing": false
    }
   }
  },
  {
   "cell_type": "code",
   "execution_count": 25,
   "outputs": [
    {
     "data": {
      "text/plain": "<seaborn.axisgrid.FacetGrid at 0xd5f7d0>"
     },
     "metadata": {},
     "output_type": "execute_result",
     "execution_count": 25
    },
    {
     "data": {
      "text/plain": "<Figure size 360x360 with 1 Axes>",
      "image/png": "[encoded data removed]"
     },
     "metadata": {
      "needs_background": "light"
     },
     "output_type": "display_data"
    }
   ],
   "source": [
    "sns.relplot(x='SeriousDlqin2yrs', \n",
    "            y = 'NumberOfOpenCreditLinesAndLoans',\n",
    "            data=df)"
   ],
   "metadata": {
    "collapsed": false,
    "pycharm": {
     "name": "#%%\n",
     "is_executing": false
    }
   }
  },
  {
   "cell_type": "code",
   "execution_count": null,
   "outputs": [],
   "source": [
    "df = df.drop(df[df['age'] == 0].index)"
   ],
   "metadata": {
    "collapsed": false,
    "pycharm": {
     "name": "#%%\n"
    }
   }
  },
  {
   "cell_type": "code",
   "execution_count": 20,
   "outputs": [],
   "source": [
    "classifier = LogisticRegression()"
   ],
   "metadata": {
    "collapsed": false,
    "pycharm": {
     "name": "#%%\n",
     "is_executing": false
    }
   }
  },
  {
   "cell_type": "code",
   "execution_count": 18,
   "outputs": [
    {
     "name": "stdout",
     "text": [
      "        RevolvingUtilizationOfUnsecuredLines  age  \\\n0                                   0.766127   45   \n1                                   0.957151   40   \n2                                   0.658180   38   \n3                                   0.233810   30   \n4                                   0.907239   49   \n...                                      ...  ...   \n149995                              0.040674   74   \n149996                              0.299745   44   \n149997                              0.246044   58   \n149998                              0.000000   30   \n149999                              0.850283   64   \n\n        NumberOfTime30-59DaysPastDueNotWorse    DebtRatio  MonthlyIncome  \\\n0                                          2     0.802982         9120.0   \n1                                          0     0.121876         2600.0   \n2                                          1     0.085113         3042.0   \n3                                          0     0.036050         3300.0   \n4                                          1     0.024926        63588.0   \n...                                      ...          ...            ...   \n149995                                     0     0.225131         2100.0   \n149996                                     0     0.716562         5584.0   \n149997                                     0  3870.000000            NaN   \n149998                                     0     0.000000         5716.0   \n149999                                     0     0.249908         8158.0   \n\n        NumberOfOpenCreditLinesAndLoans  NumberOfTimes90DaysLate  \\\n0                                    13                        0   \n1                                     4                        0   \n2                                     2                        1   \n3                                     5                        0   \n4                                     7                        0   \n...                                 ...                      ...   \n149995                                4                        0   \n149996                                4                        0   \n149997                               18                        0   \n149998                                4                        0   \n149999                                8                        0   \n\n        NumberRealEstateLoansOrLines  NumberOfTime60-89DaysPastDueNotWorse  \\\n0                                  6                                     0   \n1                                  0                                     0   \n2                                  0                                     0   \n3                                  0                                     0   \n4                                  1                                     0   \n...                              ...                                   ...   \n149995                             1                                     0   \n149996                             1                                     0   \n149997                             1                                     0   \n149998                             0                                     0   \n149999                             2                                     0   \n\n        NumberOfDependents  \n0                      2.0  \n1                      1.0  \n2                      0.0  \n3                      0.0  \n4                      0.0  \n...                    ...  \n149995                 0.0  \n149996                 2.0  \n149997                 0.0  \n149998                 0.0  \n149999                 0.0  \n\n[150000 rows x 10 columns]\n"
     ],
     "output_type": "stream"
    }
   ],
   "source": [
    "y_train = df['SeriousDlqin2yrs']\n",
    "x_train = df.iloc[:, 2:]\n",
    "x_test = data_testing.iloc[:, 2:]\n",
    "print(x_train)"
   ],
   "metadata": {
    "collapsed": false,
    "pycharm": {
     "name": "#%%\n",
     "is_executing": false
    }
   }
  },
  {
   "cell_type": "code",
   "execution_count": 36,
   "outputs": [
    {
     "name": "stdout",
     "text": [
      "6670.221237392844\n        RevolvingUtilizationOfUnsecuredLines  age  \\\n0                                   0.766127   45   \n1                                   0.957151   40   \n2                                   0.658180   38   \n3                                   0.233810   30   \n4                                   0.907239   49   \n...                                      ...  ...   \n149995                              0.040674   74   \n149996                              0.299745   44   \n149997                              0.246044   58   \n149998                              0.000000   30   \n149999                              0.850283   64   \n\n        NumberOfTime30-59DaysPastDueNotWorse    DebtRatio  MonthlyIncome  \\\n0                                          2     0.802982         9120.0   \n1                                          0     0.121876         2600.0   \n2                                          1     0.085113         3042.0   \n3                                          0     0.036050         3300.0   \n4                                          1     0.024926        63588.0   \n...                                      ...          ...            ...   \n149995                                     0     0.225131         2100.0   \n149996                                     0     0.716562         5584.0   \n149997                                     0  3870.000000         5584.0   \n149998                                     0     0.000000         5716.0   \n149999                                     0     0.249908         8158.0   \n\n        NumberOfOpenCreditLinesAndLoans  NumberOfTimes90DaysLate  \\\n0                                    13                        0   \n1                                     4                        0   \n2                                     2                        1   \n3                                     5                        0   \n4                                     7                        0   \n...                                 ...                      ...   \n149995                                4                        0   \n149996                                4                        0   \n149997                               18                        0   \n149998                                4                        0   \n149999                                8                        0   \n\n        NumberRealEstateLoansOrLines  NumberOfTime60-89DaysPastDueNotWorse  \\\n0                                  6                                     0   \n1                                  0                                     0   \n2                                  0                                     0   \n3                                  0                                     0   \n4                                  1                                     0   \n...                              ...                                   ...   \n149995                             1                                     0   \n149996                             1                                     0   \n149997                             1                                     0   \n149998                             0                                     0   \n149999                             2                                     0   \n\n        NumberOfDependents  \n0                      2.0  \n1                      1.0  \n2                      0.0  \n3                      0.0  \n4                      0.0  \n...                    ...  \n149995                 0.0  \n149996                 2.0  \n149997                 0.0  \n149998                 0.0  \n149999                 0.0  \n\n[150000 rows x 10 columns]\n"
     ],
     "output_type": "stream"
    }
   ],
   "source": [
    "average_monthly_income = df['MonthlyIncome'].mean()\n",
    "print(average_monthly_income)\n",
    "x_train = x_train.fillna(value = {'MonthlyIncome':average_monthly_income, 'NumberOfDependents': 0})\n",
    "x_train.isnull().values.any()\n",
    "print(x_train)"
   ],
   "metadata": {
    "collapsed": false,
    "pycharm": {
     "name": "#%%\n",
     "is_executing": false
    }
   }
  },
  {
   "cell_type": "code",
   "execution_count": 44,
   "outputs": [
    {
     "name": "stderr",
     "text": [
      "c:\\users\\808648\\appdata\\local\\programs\\python\\python37-32\\lib\\site-packages\\sklearn\\linear_model\\logistic.py:432: FutureWarning: Default solver will be changed to 'lbfgs' in 0.22. Specify a solver to silence this warning.\n  FutureWarning)\n"
     ],
     "output_type": "stream"
    },
    {
     "data": {
      "text/plain": "LogisticRegression(C=1.0, class_weight=None, dual=False, fit_intercept=True,\n                   intercept_scaling=1, l1_ratio=None, max_iter=100,\n                   multi_class='warn', n_jobs=None, penalty='l2',\n                   random_state=None, solver='warn', tol=0.0001, verbose=0,\n                   warm_start=False)"
     },
     "metadata": {},
     "output_type": "execute_result",
     "execution_count": 44
    }
   ],
   "source": [
    "classifier.fit(x_train, y_train)\n"
   ],
   "metadata": {
    "collapsed": false,
    "pycharm": {
     "name": "#%%\n",
     "is_executing": false
    }
   }
  },
  {
   "cell_type": "code",
   "execution_count": 40,
   "outputs": [
    {
     "name": "stdout",
     "text": [
      "6855.0355896805895\n        RevolvingUtilizationOfUnsecuredLines  age  \\\n0                                   0.885519   43   \n1                                   0.463295   57   \n2                                   0.043275   59   \n3                                   0.280308   38   \n4                                   1.000000   27   \n...                                      ...  ...   \n101498                              0.282653   24   \n101499                              0.922156   36   \n101500                              0.081596   70   \n101501                              0.335457   56   \n101502                              0.441842   29   \n\n        NumberOfTime30-59DaysPastDueNotWorse    DebtRatio  MonthlyIncome  \\\n0                                          0     0.177513     5700.00000   \n1                                          0     0.527237     9141.00000   \n2                                          0     0.687648     5083.00000   \n3                                          1     0.925961     3200.00000   \n4                                          0     0.019917     3865.00000   \n...                                      ...          ...            ...   \n101498                                     0     0.068522     1400.00000   \n101499                                     3     0.934217     7615.00000   \n101500                                     0   836.000000     6855.03559   \n101501                                     0  3568.000000     6855.03559   \n101502                                     0     0.198918     5916.00000   \n\n        NumberOfOpenCreditLinesAndLoans  NumberOfTimes90DaysLate  \\\n0                                     4                        0   \n1                                    15                        0   \n2                                    12                        0   \n3                                     7                        0   \n4                                     4                        0   \n...                                 ...                      ...   \n101498                                5                        0   \n101499                                8                        0   \n101500                                3                        0   \n101501                                8                        0   \n101502                               12                        0   \n\n        NumberRealEstateLoansOrLines  NumberOfTime60-89DaysPastDueNotWorse  \\\n0                                  0                                     0   \n1                                  4                                     0   \n2                                  1                                     0   \n3                                  2                                     0   \n4                                  0                                     0   \n...                              ...                                   ...   \n101498                             0                                     0   \n101499                             2                                     0   \n101500                             0                                     0   \n101501                             2                                     1   \n101502                             0                                     0   \n\n        NumberOfDependents  \n0                      0.0  \n1                      2.0  \n2                      2.0  \n3                      0.0  \n4                      1.0  \n...                    ...  \n101498                 0.0  \n101499                 4.0  \n101500                 0.0  \n101501                 3.0  \n101502                 0.0  \n\n[101503 rows x 10 columns]",
      "\n"
     ],
     "output_type": "stream"
    }
   ],
   "source": [
    "average_monthly_income = data_testing['MonthlyIncome'].mean()\n",
    "print(average_monthly_income)\n",
    "x_test = x_test.fillna(value = {'MonthlyIncome':average_monthly_income, 'NumberOfDependents': 0})\n",
    "\n",
    "print(x_test)\n"
   ],
   "metadata": {
    "collapsed": false,
    "pycharm": {
     "name": "#%%\n",
     "is_executing": false
    }
   }
  },
  {
   "cell_type": "code",
   "execution_count": 64,
   "outputs": [
    {
     "data": {
      "text/plain": "array([0, 1], dtype=int64)"
     },
     "metadata": {},
     "output_type": "execute_result",
     "execution_count": 64
    }
   ],
   "source": [
    "x_test.isnull().values.any()"
   ],
   "metadata": {
    "collapsed": false,
    "pycharm": {
     "name": "#%%\n",
     "is_executing": false
    }
   }
  },
  {
   "cell_type": "code",
   "execution_count": 69,
   "outputs": [
    {
     "name": "stdout",
     "text": [
      "[[0.93416809 0.06583191]\n [0.95337287 0.04662713]\n [0.95892267 0.04107733]\n ...\n [0.97802171 0.02197829]\n [0.97900659 0.02099341]\n [0.90263777 0.09736223]]\n[0.06583191 0.04662713 0.04107733 ... 0.02197829 0.02099341 0.09736223]\n"
     ],
     "output_type": "stream"
    }
   ],
   "source": [
    "y_test = classifier.predict_proba(x_test)\n",
    "print(y_test)\n",
    "y_test = y_test[:,1]\n",
    "print(y_test)\n",
    "\n"
   ],
   "metadata": {
    "collapsed": false,
    "pycharm": {
     "name": "#%%\n",
     "is_executing": false
    }
   }
  },
  {
   "cell_type": "code",
   "execution_count": 75,
   "outputs": [],
   "source": [
    "df_test = pnd.DataFrame(y_test, columns=['Probability'], index= range(1, y_test.size + 1))\n",
    "df_test.index.name = 'Id'\n",
    "df_test.to_csv('cs-test-pred.csv')\n",
    "    \n"
   ],
   "metadata": {
    "collapsed": false,
    "pycharm": {
     "name": "#%%\n",
     "is_executing": false
    }
   }
  }
 ],
 "metadata": {
  "kernelspec": {
   "display_name": "Python 3",
   "language": "python",
   "name": "python3"
  },
  "language_info": {
   "codemirror_mode": {
    "name": "ipython",
    "version": 2
   },
   "file_extension": ".py",
   "mimetype": "text/x-python",
   "name": "python",
   "nbconvert_exporter": "python",
   "pygments_lexer": "ipython2",
   "version": "2.7.6"
  },
  "pycharm": {
   "stem_cell": {
    "cell_type": "raw",
    "source": [],
    "metadata": {
     "collapsed": false
    }
   }
  }
 },
 "nbformat": 4,
 "nbformat_minor": 0
}